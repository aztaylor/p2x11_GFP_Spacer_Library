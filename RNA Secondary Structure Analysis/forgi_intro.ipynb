{
 "cells": [
  {
   "cell_type": "code",
   "execution_count": 1,
   "metadata": {},
   "outputs": [],
   "source": [
    "import forgi as fg\n",
    "import forgi.visual.mplotlib as fvm\n",
    "import matplotlib.pyplot as plt"
   ]
  },
  {
   "cell_type": "code",
   "execution_count": 2,
   "metadata": {},
   "outputs": [],
   "source": [
    "cg = fg.load_rna('((((..((((((((((....((((..(((...((((((.....))))))..)))....))))......((.((((((((((((....)))))))))).)).))(((((((.....((.((((.((((((((((..........)))....)))))))(((((((((.((((((.((((..((((......))))((((..((.((..((......))..))..))..)))))))).)))))).)))(((....))).....((........))(((((..(((((((..................)))))))))))).((((((.(((((....((((((...((((.((((((((((........)))))....))))).((((...............)))).((((..(((((((((.....))))..)))))..)))).))))...)))))).))))).))))))...((......))..))))))..((((..(((....)))..))))......(((........))))))).)).....)))))))....)))))))))).................(((.((.((((((((((..(((((((((.......................)))))))..))..)))))))))))))))..........(((......)))...)))).......(((.(((........(((((.((((....(((....)))....)))).)).))).))).)))..')"
   ]
  },
  {
   "cell_type": "code",
   "execution_count": 3,
   "metadata": {},
   "outputs": [
    {
     "ename": "ModuleNotFoundError",
     "evalue": "No module named 'RNA'",
     "output_type": "error",
     "traceback": [
      "\u001b[0;31m---------------------------------------------------------------------------\u001b[0m",
      "\u001b[0;31mModuleNotFoundError\u001b[0m                       Traceback (most recent call last)",
      "\u001b[0;32m<ipython-input-3-bd0ac6826ab4>\u001b[0m in \u001b[0;36m<module>\u001b[0;34m\u001b[0m\n\u001b[0;32m----> 1\u001b[0;31m \u001b[0mfvm\u001b[0m\u001b[0;34m.\u001b[0m\u001b[0mplot_rna\u001b[0m\u001b[0;34m(\u001b[0m\u001b[0mcg\u001b[0m\u001b[0;34m)\u001b[0m\u001b[0;34m\u001b[0m\u001b[0;34m\u001b[0m\u001b[0m\n\u001b[0m",
      "\u001b[0;32m/usr/local/anaconda3/envs/RNA/lib/python3.6/site-packages/forgi/visual/mplotlib.py\u001b[0m in \u001b[0;36mplot_rna\u001b[0;34m(cg, ax, offset, text_kwargs, backbone_kwargs, basepair_kwargs, color, lighten, annotations)\u001b[0m\n\u001b[1;32m    241\u001b[0m     '''\n\u001b[1;32m    242\u001b[0m     \u001b[0mlog\u001b[0m\u001b[0;34m.\u001b[0m\u001b[0minfo\u001b[0m\u001b[0;34m(\u001b[0m\u001b[0;34m\"Starting to plot RNA...\"\u001b[0m\u001b[0;34m)\u001b[0m\u001b[0;34m\u001b[0m\u001b[0;34m\u001b[0m\u001b[0m\n\u001b[0;32m--> 243\u001b[0;31m     \u001b[0;32mimport\u001b[0m \u001b[0mRNA\u001b[0m\u001b[0;34m\u001b[0m\u001b[0;34m\u001b[0m\u001b[0m\n\u001b[0m\u001b[1;32m    244\u001b[0m     \u001b[0;32mimport\u001b[0m \u001b[0mmatplotlib\u001b[0m\u001b[0;34m.\u001b[0m\u001b[0mcolors\u001b[0m \u001b[0;32mas\u001b[0m \u001b[0mmc\u001b[0m\u001b[0;34m\u001b[0m\u001b[0;34m\u001b[0m\u001b[0m\n\u001b[1;32m    245\u001b[0m     \u001b[0mRNA\u001b[0m\u001b[0;34m.\u001b[0m\u001b[0mcvar\u001b[0m\u001b[0;34m.\u001b[0m\u001b[0mrna_plot_type\u001b[0m \u001b[0;34m=\u001b[0m \u001b[0;36m1\u001b[0m\u001b[0;34m\u001b[0m\u001b[0;34m\u001b[0m\u001b[0m\n",
      "\u001b[0;31mModuleNotFoundError\u001b[0m: No module named 'RNA'"
     ]
    }
   ],
   "source": [
    "fvm.plot_rna(cg)"
   ]
  }
 ],
 "metadata": {
  "kernelspec": {
   "display_name": "RNA",
   "language": "python",
   "name": "python3"
  },
  "language_info": {
   "codemirror_mode": {
    "name": "ipython",
    "version": 3
   },
   "file_extension": ".py",
   "mimetype": "text/x-python",
   "name": "python",
   "nbconvert_exporter": "python",
   "pygments_lexer": "ipython3",
   "version": "3.6.13"
  },
  "orig_nbformat": 4
 },
 "nbformat": 4,
 "nbformat_minor": 2
}
